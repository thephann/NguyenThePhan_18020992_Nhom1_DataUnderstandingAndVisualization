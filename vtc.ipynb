{
 "cells": [
  {
   "cell_type": "code",
   "execution_count": 25,
   "metadata": {},
   "outputs": [],
   "source": [
    "import pandas as pd\n",
    "import matplotlib.pyplot as plt     \n",
    "import matplotlib.ticker as ticker\n",
    "import numpy as np"
   ]
  },
  {
   "cell_type": "code",
   "execution_count": 5,
   "metadata": {},
   "outputs": [],
   "source": [
    "df = pd.read_csv(\"vtc1.csv\")\n"
   ]
  },
  {
   "cell_type": "code",
   "execution_count": 6,
   "metadata": {
    "scrolled": false
   },
   "outputs": [
    {
     "name": "stdout",
     "output_type": "stream",
     "text": [
      "                                                   link  \\\n",
      "0     https://vtc.vn/doanh-nghiep-san-xuat-lap-rap-o...   \n",
      "1     https://vtc.vn/dong-y-chu-truong-thanh-lap-tha...   \n",
      "2     https://vtc.vn/lo-dien-bmw-x3-2022-doi-thu-cua...   \n",
      "3     https://vtc.vn/them-bang-bac-cuc-nguyen-ven-cu...   \n",
      "4     https://vtc.vn/trong-thang-8-se-co-hai-con-mua...   \n",
      "...                                                 ...   \n",
      "4125  https://vtc.vn/xe-hot-cua-hyundai-lo-phien-ban...   \n",
      "4126  https://vtc.vn/ronaldo-cua-tuyen-nu-viet-nam-l...   \n",
      "4127  https://vtc.vn/xe-hot-cua-hyundai-lo-phien-ban...   \n",
      "4128  https://vtc.vn/hlv-huu-thang-gap-myanmar-suc-e...   \n",
      "4129  https://vtc.vn/video-hlv-park-hang-seo-canh-ti...   \n",
      "\n",
      "                                                  title         category  \\\n",
      "0     Doanh nghiệp sản xuất, lắp ráp ô tô có thể đượ...           Đầu Tư   \n",
      "1     Đồng ý chủ trương thành lập Thành phố Thủ Đức ...    Tin nhanh 24h   \n",
      "2         Lộ diện BMW X3 2022, đối thủ của Mercedes GLC  Người đẹp và xe   \n",
      "3     Thềm băng Bắc Cực nguyên vẹn cuối cùng của Can...     Sống kết nối   \n",
      "4       Trong tháng 8 sẽ có hai cơn mưa sao băng rực rỡ     Sống kết nối   \n",
      "...                                                 ...              ...   \n",
      "4125              Xe 'hot' của Hyundai lộ phiên bản mới     Ôtô - Xe máy   \n",
      "4126             'Ronaldo của tuyển nữ Việt Nam' là ai?         Thể thao   \n",
      "4127              Xe 'hot' của Hyundai lộ phiên bản mới     Ôtô - Xe máy   \n",
      "4128  HLV Hữu Thắng: Gặp Myanmar, sức ép sẽ rất kinh...         Thể thao   \n",
      "4129  Video: HLV Park Hang-seo cảnh tỉnh cầu thủ Việ...            Video   \n",
      "\n",
      "                                        date  \\\n",
      "0       Thứ Hai, 17/08/2020 19:45:51 +07:00   \n",
      "1       Thứ Hai, 17/08/2020 18:30:00 +07:00   \n",
      "2       Thứ Hai, 17/08/2020 14:02:24 +07:00   \n",
      "3      Thứ Bảy, 08/08/2020 06:06:00 +07:00   \n",
      "4     Chủ Nhật, 09/08/2020 16:41:00 +07:00   \n",
      "...                                      ...   \n",
      "4125  Chủ Nhật, 16/09/2012 12:43:00 +07:00   \n",
      "4126     Thứ Tư, 12/04/2017 07:11:00 +07:00   \n",
      "4127  Chủ Nhật, 16/09/2012 12:43:00 +07:00   \n",
      "4128   Thứ Bảy, 19/11/2016 20:11:00 +07:00   \n",
      "4129     Thứ Tư, 05/12/2018 15:11:00 +07:00   \n",
      "\n",
      "                                            description  \\\n",
      "0     Bộ Tài chính đề xuất cho phép doanh nghiệp sản...   \n",
      "1     (VTC News) - Phó Thủ tướng Thường trực Trương ...   \n",
      "2     (VTC News) - Như thường thấy với các mẫu xe là...   \n",
      "3     (VTC News) - Thềm băng cuối cùng còn nguyên vẹ...   \n",
      "4     Tháng 8 hàng năm đánh dấu sự bắt đầu của mưa s...   \n",
      "...                                                 ...   \n",
      "4125  Hai ngày sau khi người anh em Hàn Quốc KIA ra ...   \n",
      "4126  Tuyết Dung có một pha solo vượt qua hậu vệ Mya...   \n",
      "4127  Hai ngày sau khi người anh em Hàn Quốc KIA ra ...   \n",
      "4128  Sau buổi tập cuối cùng chuẩn bị cho trận ra qu...   \n",
      "4129  Thắng lượt đi nhưng HLV đội tuyển Việt Nam vẫn...   \n",
      "\n",
      "                                            relatedNews  \\\n",
      "0     Ô tô lắp ráp trong nước không rẻ hơn nhập khẩu...   \n",
      "1     Xây nhà không phép, Phó Chủ tịch HĐND quận Thủ...   \n",
      "2     Hennessey tiết lộ bản nâng cấp cho Audi R8\\nLộ...   \n",
      "3     Gấu Bắc Cực có thể tuyệt chủng vào năm 2100\\nC...   \n",
      "4     Kế hoạch NASA có thể tạo ra trận mưa sao băng ...   \n",
      "...                                                 ...   \n",
      "4125                                                NaN   \n",
      "4126                                                NaN   \n",
      "4127                                                NaN   \n",
      "4128                                                NaN   \n",
      "4129                                                NaN   \n",
      "\n",
      "                                                content  \\\n",
      "0     Đây là một trong những nội dung trong dự thảo ...   \n",
      "1     Văn phòng Chính phủ vừa có thông báo kết luận ...   \n",
      "2     Điểm khác biệt rõ ràng nhất giữa X3 nâng cấp v...   \n",
      "3     Thềm băng này có tên Milne nằm ở rìa của Đảo E...   \n",
      "4     Từ ngày 11 đến ngày 13/8, mưa sao băng Perseid...   \n",
      "...                                                 ...   \n",
      "4125  Hai ngày sau khi người anh em Hàn Quốc KIA ra ...   \n",
      "4126  Bàn thắng mở tỷ số trận đấu Việt Nam vs Myanma...   \n",
      "4127  Hai ngày sau khi người anh em Hàn Quốc KIA ra ...   \n",
      "4128  Chia sẻ về sự chuẩn bị của tuyển Việt Nam cho ...   \n",
      "4129                                                NaN   \n",
      "\n",
      "                                                   tags  \n",
      "0     doanh nghiệp sản xuất ô tô\\nlắp ráp ô tô trong...  \n",
      "1      TP.Thủ Đức\\nquận Thủ Đức\\nlập TP Thủ Đức\\nTP.HCM  \n",
      "2                         BMW\\nBMW X3\\nBMW bản nâng cấp  \n",
      "3                  thềm băng\\nBắc cực\\nbiến đổi khí hậu  \n",
      "4         sao băng\\nmưa sao băng\\nmưa sao băng perseids  \n",
      "...                                                 ...  \n",
      "4125           Kia\\nxe hơi\\nHyundai i30\\nPro_cee'd 2013  \n",
      "4126  Tuyển nữ Việt Nam\\nTuyết Dung\\nViet nam vs Mya...  \n",
      "4127           Kia\\nxe hơi\\nHyundai i30\\nPro_cee'd 2013  \n",
      "4128  tuyển việt nam\\nHLV Hữu Thắng\\nAFF Cup\\nAFF Cu...  \n",
      "4129  Đội tuyển Việt Nam\\nAFF Cup\\ntrực tiếp aff cup...  \n",
      "\n",
      "[4130 rows x 8 columns]\n"
     ]
    }
   ],
   "source": [
    "print(df)"
   ]
  },
  {
   "cell_type": "code",
   "execution_count": 7,
   "metadata": {},
   "outputs": [
    {
     "name": "stdout",
     "output_type": "stream",
     "text": [
      "Index(['link', 'title', 'category', 'date', 'description', 'relatedNews',\n",
      "       'content', 'tags'],\n",
      "      dtype='object')\n"
     ]
    }
   ],
   "source": [
    "print(df.keys())"
   ]
  },
  {
   "cell_type": "code",
   "execution_count": 9,
   "metadata": {},
   "outputs": [
    {
     "data": {
      "text/plain": [
       "Thời sự                   653\n",
       "Thế giới                  520\n",
       "Văn hóa - Giải trí        391\n",
       "Video                     390\n",
       "Thể thao                  381\n",
       "                         ... \n",
       "Khỏe                        1\n",
       "Bóng đá Đức                 1\n",
       "Sống đẹp                    1\n",
       "Bạn đọc viết                1\n",
       "90 năm Đảng quang vinh      1\n",
       "Name: category, Length: 66, dtype: int64"
      ]
     },
     "execution_count": 9,
     "metadata": {},
     "output_type": "execute_result"
    }
   ],
   "source": [
    "df[\"category\"].value_counts()"
   ]
  },
  {
   "cell_type": "code",
   "execution_count": 10,
   "metadata": {},
   "outputs": [
    {
     "name": "stdout",
     "output_type": "stream",
     "text": [
      "0         Thứ Hai, 17/08/2020 19:45:51 +07:00\n",
      "1         Thứ Hai, 17/08/2020 18:30:00 +07:00\n",
      "2         Thứ Hai, 17/08/2020 14:02:24 +07:00\n",
      "3        Thứ Bảy, 08/08/2020 06:06:00 +07:00\n",
      "4       Chủ Nhật, 09/08/2020 16:41:00 +07:00\n",
      "                         ...                  \n",
      "4125    Chủ Nhật, 16/09/2012 12:43:00 +07:00\n",
      "4126       Thứ Tư, 12/04/2017 07:11:00 +07:00\n",
      "4127    Chủ Nhật, 16/09/2012 12:43:00 +07:00\n",
      "4128     Thứ Bảy, 19/11/2016 20:11:00 +07:00\n",
      "4129       Thứ Tư, 05/12/2018 15:11:00 +07:00\n",
      "Name: date, Length: 4130, dtype: object\n"
     ]
    }
   ],
   "source": [
    "print(df['date'])"
   ]
  },
  {
   "cell_type": "code",
   "execution_count": 28,
   "metadata": {},
   "outputs": [
    {
     "data": {
      "text/plain": [
       "link           object\n",
       "title          object\n",
       "category       object\n",
       "date           object\n",
       "description    object\n",
       "relatedNews    object\n",
       "content        object\n",
       "tags           object\n",
       "dtype: object"
      ]
     },
     "execution_count": 28,
     "metadata": {},
     "output_type": "execute_result"
    }
   ],
   "source": [
    "df.dtypes"
   ]
  },
  {
   "cell_type": "code",
   "execution_count": 45,
   "metadata": {
    "scrolled": true
   },
   "outputs": [
    {
     "data": {
      "image/png": "[encoded data removed]",
      "text/plain": [
       "<Figure size 432x288 with 1 Axes>"
      ]
     },
     "metadata": {},
     "output_type": "display_data"
    }
   ],
   "source": [
    "labels = 'Thời sự', 'Thế giới' , 'Văn hóa - Giải trí ', 'Video', 'Thể thao' ,'Khác'\n",
    "sizes = [653, 520, 391 , 390, 381, 5]\n",
    "explode = (0.1, 0.07, 0.05, 0.05,0.05,0)\n",
    "plt.pie(sizes,labels=labels,autopct='%1.1f%%', startangle=90, shadow = True,explode=explode)\n",
    "plt.title('category')\n",
    "plt.axis('equal')\n",
    "plt.show()"
   ]
  },
  {
   "cell_type": "code",
   "execution_count": null,
   "metadata": {},
   "outputs": [],
   "source": []
  }
 ],
 "metadata": {
  "kernelspec": {
   "display_name": "Python 3",
   "language": "python",
   "name": "python3"
  },
  "language_info": {
   "codemirror_mode": {
    "name": "ipython",
    "version": 3
   },
   "file_extension": ".py",
   "mimetype": "text/x-python",
   "name": "python",
   "nbconvert_exporter": "python",
   "pygments_lexer": "ipython3",
   "version": "3.7.6"
  }
 },
 "nbformat": 4,
 "nbformat_minor": 4
}
